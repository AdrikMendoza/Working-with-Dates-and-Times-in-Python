{
 "cells": [
  {
   "cell_type": "markdown",
   "id": "cd7b93ea",
   "metadata": {},
   "source": [
    "# 1. Dates and Calendars\n",
    "\n",
    "## Dates in Python\n",
    "### Which day of the week?\n"
   ]
  },
  {
   "cell_type": "code",
   "execution_count": 1,
   "id": "70ec2f03",
   "metadata": {},
   "outputs": [
    {
     "name": "stdout",
     "output_type": "stream",
     "text": [
      "0\n"
     ]
    }
   ],
   "source": [
    "# Import date from datetime\n",
    "from datetime import date\n",
    "\n",
    "# Create a date object\n",
    "hurricane_andrew = date(1992, 8, 24)\n",
    "\n",
    "# Which day of the week is the date?\n",
    "print(hurricane_andrew.weekday())"
   ]
  },
  {
   "cell_type": "markdown",
   "id": "e765ed2c",
   "metadata": {},
   "source": [
    "> In the United States, Canada, and Japan, Sunday is often considered the first day of the week. Everywhere else, it usually begins on Monday.\n",
    "\n",
    "### How many hurricanes come early?\n"
   ]
  },
  {
   "cell_type": "code",
   "execution_count": 2,
   "id": "b128d505",
   "metadata": {},
   "outputs": [],
   "source": [
    "import pickle\n",
    "# load : get the data from file\n",
    "florida_hurricane_dates = pickle.load(open('florida_hurricane_dates.pkl', \"rb\"))"
   ]
  },
  {
   "cell_type": "markdown",
   "id": "2c41e2ae",
   "metadata": {},
   "source": [
    "#### How many hurricanes since 1950 have made landfall in Florida before the official start of hurricane season?"
   ]
  },
  {
   "cell_type": "code",
   "execution_count": 3,
   "id": "0a77253c",
   "metadata": {},
   "outputs": [
    {
     "name": "stdout",
     "output_type": "stream",
     "text": [
      "10\n"
     ]
    }
   ],
   "source": [
    "# Counter for how many before June 1\n",
    "early_hurricanes = 0\n",
    "\n",
    "# We loop over the dates\n",
    "for hurricane in florida_hurricane_dates:\n",
    "  # Check if the month is before June (month number 6)\n",
    "  if hurricane.month < 6:\n",
    "    early_hurricanes = early_hurricanes + 1\n",
    "    \n",
    "print(early_hurricanes)"
   ]
  },
  {
   "cell_type": "markdown",
   "id": "251ffe20",
   "metadata": {},
   "source": [
    "## Math with dates\n",
    "### Subtracting dates\n",
    "\n"
   ]
  },
  {
   "cell_type": "code",
   "execution_count": 4,
   "id": "c552badd",
   "metadata": {
    "scrolled": true
   },
   "outputs": [
    {
     "name": "stdout",
     "output_type": "stream",
     "text": [
      "218\n"
     ]
    }
   ],
   "source": [
    "# Import date\n",
    "from datetime import date\n",
    "\n",
    "# Create a date object for May 9th, 2007\n",
    "start = date(2007,5,9)\n",
    "\n",
    "# Create a date object for December 13th, 2007\n",
    "end = date(2007, 12, 13)\n",
    "\n",
    "# Subtract the two dates and print the number of days\n",
    "print((end - start).days)"
   ]
  },
  {
   "cell_type": "markdown",
   "id": "7fa30a6e",
   "metadata": {},
   "source": [
    "### Counting events per calendar month\n"
   ]
  },
  {
   "cell_type": "code",
   "execution_count": 5,
   "id": "27bba6f8",
   "metadata": {},
   "outputs": [
    {
     "name": "stdout",
     "output_type": "stream",
     "text": [
      "{1: 0, 2: 1, 3: 0, 4: 1, 5: 8, 6: 32, 7: 21, 8: 49, 9: 70, 10: 43, 11: 9, 12: 1}\n"
     ]
    }
   ],
   "source": [
    "# A dictionary to count hurricanes per calendar month\n",
    "hurricanes_each_month = {1: 0, 2: 0, 3: 0, 4: 0, 5: 0, 6:0, 7:0, 8:0, 9:0, 10:0, 11:0, 12:0}\n",
    "\n",
    "# Loop over all hurricanes\n",
    "for hurricane in florida_hurricane_dates:\n",
    "  # Pull out the month\n",
    "  month = hurricane.month\n",
    "  # Increment the count in your dictionary by one\n",
    "  hurricanes_each_month[month] += 1\n",
    "  \n",
    "print(hurricanes_each_month)"
   ]
  },
  {
   "cell_type": "markdown",
   "id": "3f3e5b31",
   "metadata": {},
   "source": [
    "### Putting a list of dates in order\n"
   ]
  },
  {
   "cell_type": "code",
   "execution_count": 6,
   "id": "720c426a",
   "metadata": {},
   "outputs": [],
   "source": [
    "# load : get the data from file\n",
    "dates_scrambled = pickle.load(open('test.pkl', \"rb\"))"
   ]
  },
  {
   "cell_type": "code",
   "execution_count": 7,
   "id": "63fe0a1c",
   "metadata": {
    "scrolled": true
   },
   "outputs": [
    {
     "name": "stdout",
     "output_type": "stream",
     "text": [
      "1988-08-04\n",
      "2011-07-18\n",
      "1950-08-31\n",
      "2017-10-29\n"
     ]
    }
   ],
   "source": [
    "# Print the first and last scrambled dates\n",
    "print(dates_scrambled[0])\n",
    "print(dates_scrambled[-1])\n",
    "\n",
    "# Put the dates in order\n",
    "dates_ordered = sorted(dates_scrambled)\n",
    "\n",
    "# Print the first and last ordered dates\n",
    "print(dates_ordered[0])\n",
    "print(dates_ordered[-1])"
   ]
  },
  {
   "cell_type": "markdown",
   "id": "1dd9bfaf",
   "metadata": {},
   "source": [
    "## Turning dates into strings\n",
    "### Printing dates in a friendly format\n"
   ]
  },
  {
   "cell_type": "code",
   "execution_count": 8,
   "id": "8d56903c",
   "metadata": {},
   "outputs": [
    {
     "name": "stdout",
     "output_type": "stream",
     "text": [
      "ISO: Our earliest hurricane date: 1950-08-31\n",
      "US: Our earliest hurricane date: 08/31/1950\n"
     ]
    }
   ],
   "source": [
    "# Assign the earliest date to first_date\n",
    "first_date = min(florida_hurricane_dates)\n",
    "\n",
    "# Convert to ISO and US formats\n",
    "iso = \"Our earliest hurricane date: \" + first_date.isoformat()\n",
    "us = \"Our earliest hurricane date: \" + first_date.strftime(\"%m/%d/%Y\")\n",
    "\n",
    "print(\"ISO: \" + iso)\n",
    "print(\"US: \" + us)"
   ]
  },
  {
   "cell_type": "markdown",
   "id": "50851e21",
   "metadata": {},
   "source": [
    "### Representing dates in different ways\n"
   ]
  },
  {
   "cell_type": "code",
   "execution_count": 9,
   "id": "034f8f0c",
   "metadata": {},
   "outputs": [
    {
     "name": "stdout",
     "output_type": "stream",
     "text": [
      "1992-08\n"
     ]
    }
   ],
   "source": [
    "# Import date\n",
    "from datetime import date\n",
    "\n",
    "# Create a date object\n",
    "andrew = date(1992, 8, 26)\n",
    "\n",
    "# Print the date in the format 'YYYY-MM'\n",
    "print(andrew.strftime('%Y-%m'))"
   ]
  },
  {
   "cell_type": "code",
   "execution_count": 10,
   "id": "ca38334a",
   "metadata": {},
   "outputs": [
    {
     "name": "stdout",
     "output_type": "stream",
     "text": [
      "August (1992)\n"
     ]
    }
   ],
   "source": [
    "# Print the date in the format 'MONTH (YYYY)'\n",
    "print(andrew.strftime('%B (%Y)'))"
   ]
  },
  {
   "cell_type": "code",
   "execution_count": 11,
   "id": "b526f22f",
   "metadata": {},
   "outputs": [
    {
     "name": "stdout",
     "output_type": "stream",
     "text": [
      "1992-239\n"
     ]
    }
   ],
   "source": [
    "# Print the date in the format 'YYYY-DDD'\n",
    "print(andrew.strftime('%Y-%j')) # j is the day of the yea"
   ]
  },
  {
   "cell_type": "markdown",
   "id": "935ecea5",
   "metadata": {},
   "source": [
    "# 2. Combining Dates and Times\n",
    "## Dates and times\n",
    "### Creating datetimes by hand\n",
    "\n"
   ]
  },
  {
   "cell_type": "code",
   "execution_count": 12,
   "id": "57b4d765",
   "metadata": {},
   "outputs": [
    {
     "name": "stdout",
     "output_type": "stream",
     "text": [
      "2017-10-01T15:26:26\n"
     ]
    }
   ],
   "source": [
    "# Import datetime\n",
    "from datetime import datetime\n",
    "\n",
    "# Create a datetime object\n",
    "dt = datetime(2017, 10, 1, 15, 26, 26)\n",
    "\n",
    "# Print the results in ISO 8601 format\n",
    "print(dt.isoformat())"
   ]
  },
  {
   "cell_type": "code",
   "execution_count": 13,
   "id": "af13298f",
   "metadata": {},
   "outputs": [
    {
     "name": "stdout",
     "output_type": "stream",
     "text": [
      "2017-12-31T15:19:13\n"
     ]
    }
   ],
   "source": [
    "# Create a datetime object\n",
    "dt = datetime(2017,12,31,15,19,13)\n",
    "\n",
    "# Print the results in ISO 8601 format\n",
    "print(dt.isoformat())"
   ]
  },
  {
   "cell_type": "code",
   "execution_count": 14,
   "id": "cc09a682",
   "metadata": {
    "scrolled": true
   },
   "outputs": [
    {
     "name": "stdout",
     "output_type": "stream",
     "text": [
      "1917-12-31 15:19:13\n"
     ]
    }
   ],
   "source": [
    "# Create a datetime object\n",
    "dt = datetime(2017, 12, 31, 15, 19, 13)\n",
    "\n",
    "# Replace the year with 1917\n",
    "dt_old = dt.replace(year=1917)\n",
    "\n",
    "# Print the results in ISO 8601 format\n",
    "print(dt_old)"
   ]
  },
  {
   "cell_type": "markdown",
   "id": "fcc82c8c",
   "metadata": {},
   "source": [
    "### Counting events before and after noon\n"
   ]
  },
  {
   "cell_type": "code",
   "execution_count": 15,
   "id": "354fda0b",
   "metadata": {},
   "outputs": [],
   "source": [
    "import pandas as pd\n",
    "\n",
    "onebike = pd.read_csv('capital-onebike.csv')"
   ]
  },
  {
   "cell_type": "code",
   "execution_count": 16,
   "id": "05b6432d",
   "metadata": {
    "scrolled": false
   },
   "outputs": [
    {
     "data": {
      "text/html": [
       "<div>\n",
       "<style scoped>\n",
       "    .dataframe tbody tr th:only-of-type {\n",
       "        vertical-align: middle;\n",
       "    }\n",
       "\n",
       "    .dataframe tbody tr th {\n",
       "        vertical-align: top;\n",
       "    }\n",
       "\n",
       "    .dataframe thead th {\n",
       "        text-align: right;\n",
       "    }\n",
       "</style>\n",
       "<table border=\"1\" class=\"dataframe\">\n",
       "  <thead>\n",
       "    <tr style=\"text-align: right;\">\n",
       "      <th></th>\n",
       "      <th>Start date</th>\n",
       "      <th>End date</th>\n",
       "      <th>Start station number</th>\n",
       "      <th>Start station</th>\n",
       "      <th>End station number</th>\n",
       "      <th>End station</th>\n",
       "      <th>Bike number</th>\n",
       "      <th>Member type</th>\n",
       "    </tr>\n",
       "  </thead>\n",
       "  <tbody>\n",
       "    <tr>\n",
       "      <th>0</th>\n",
       "      <td>2017-10-01 15:23:25</td>\n",
       "      <td>2017-10-01 15:26:26</td>\n",
       "      <td>31038</td>\n",
       "      <td>Glebe Rd &amp; 11th St N</td>\n",
       "      <td>31036</td>\n",
       "      <td>George Mason Dr &amp; Wilson Blvd</td>\n",
       "      <td>W20529</td>\n",
       "      <td>Member</td>\n",
       "    </tr>\n",
       "    <tr>\n",
       "      <th>1</th>\n",
       "      <td>2017-10-01 15:42:57</td>\n",
       "      <td>2017-10-01 17:49:59</td>\n",
       "      <td>31036</td>\n",
       "      <td>George Mason Dr &amp; Wilson Blvd</td>\n",
       "      <td>31036</td>\n",
       "      <td>George Mason Dr &amp; Wilson Blvd</td>\n",
       "      <td>W20529</td>\n",
       "      <td>Casual</td>\n",
       "    </tr>\n",
       "    <tr>\n",
       "      <th>2</th>\n",
       "      <td>2017-10-02 06:37:10</td>\n",
       "      <td>2017-10-02 06:42:53</td>\n",
       "      <td>31036</td>\n",
       "      <td>George Mason Dr &amp; Wilson Blvd</td>\n",
       "      <td>31037</td>\n",
       "      <td>Ballston Metro / N Stuart &amp; 9th St N</td>\n",
       "      <td>W20529</td>\n",
       "      <td>Member</td>\n",
       "    </tr>\n",
       "    <tr>\n",
       "      <th>3</th>\n",
       "      <td>2017-10-02 08:56:45</td>\n",
       "      <td>2017-10-02 09:18:03</td>\n",
       "      <td>31037</td>\n",
       "      <td>Ballston Metro / N Stuart &amp; 9th St N</td>\n",
       "      <td>31295</td>\n",
       "      <td>Potomac &amp; M St NW</td>\n",
       "      <td>W20529</td>\n",
       "      <td>Member</td>\n",
       "    </tr>\n",
       "    <tr>\n",
       "      <th>4</th>\n",
       "      <td>2017-10-02 18:23:48</td>\n",
       "      <td>2017-10-02 18:45:05</td>\n",
       "      <td>31295</td>\n",
       "      <td>Potomac &amp; M St NW</td>\n",
       "      <td>31230</td>\n",
       "      <td>Metro Center / 12th &amp; G St NW</td>\n",
       "      <td>W20529</td>\n",
       "      <td>Member</td>\n",
       "    </tr>\n",
       "  </tbody>\n",
       "</table>\n",
       "</div>"
      ],
      "text/plain": [
       "            Start date             End date  Start station number  \\\n",
       "0  2017-10-01 15:23:25  2017-10-01 15:26:26                 31038   \n",
       "1  2017-10-01 15:42:57  2017-10-01 17:49:59                 31036   \n",
       "2  2017-10-02 06:37:10  2017-10-02 06:42:53                 31036   \n",
       "3  2017-10-02 08:56:45  2017-10-02 09:18:03                 31037   \n",
       "4  2017-10-02 18:23:48  2017-10-02 18:45:05                 31295   \n",
       "\n",
       "                          Start station  End station number  \\\n",
       "0                  Glebe Rd & 11th St N               31036   \n",
       "1         George Mason Dr & Wilson Blvd               31036   \n",
       "2         George Mason Dr & Wilson Blvd               31037   \n",
       "3  Ballston Metro / N Stuart & 9th St N               31295   \n",
       "4                     Potomac & M St NW               31230   \n",
       "\n",
       "                            End station Bike number Member type  \n",
       "0         George Mason Dr & Wilson Blvd      W20529      Member  \n",
       "1         George Mason Dr & Wilson Blvd      W20529      Casual  \n",
       "2  Ballston Metro / N Stuart & 9th St N      W20529      Member  \n",
       "3                     Potomac & M St NW      W20529      Member  \n",
       "4         Metro Center / 12th & G St NW      W20529      Member  "
      ]
     },
     "execution_count": 16,
     "metadata": {},
     "output_type": "execute_result"
    }
   ],
   "source": [
    "onebike.head()"
   ]
  },
  {
   "cell_type": "code",
   "execution_count": 17,
   "id": "acedda8f",
   "metadata": {},
   "outputs": [
    {
     "data": {
      "text/html": [
       "<div>\n",
       "<style scoped>\n",
       "    .dataframe tbody tr th:only-of-type {\n",
       "        vertical-align: middle;\n",
       "    }\n",
       "\n",
       "    .dataframe tbody tr th {\n",
       "        vertical-align: top;\n",
       "    }\n",
       "\n",
       "    .dataframe thead th {\n",
       "        text-align: right;\n",
       "    }\n",
       "</style>\n",
       "<table border=\"1\" class=\"dataframe\">\n",
       "  <thead>\n",
       "    <tr style=\"text-align: right;\">\n",
       "      <th></th>\n",
       "      <th>Start date</th>\n",
       "      <th>End date</th>\n",
       "      <th>Start</th>\n",
       "    </tr>\n",
       "  </thead>\n",
       "  <tbody>\n",
       "    <tr>\n",
       "      <th>0</th>\n",
       "      <td>2017-10-01 15:23:25</td>\n",
       "      <td>2017-10-01 15:26:26</td>\n",
       "      <td>15</td>\n",
       "    </tr>\n",
       "    <tr>\n",
       "      <th>1</th>\n",
       "      <td>2017-10-01 15:42:57</td>\n",
       "      <td>2017-10-01 17:49:59</td>\n",
       "      <td>15</td>\n",
       "    </tr>\n",
       "    <tr>\n",
       "      <th>2</th>\n",
       "      <td>2017-10-02 06:37:10</td>\n",
       "      <td>2017-10-02 06:42:53</td>\n",
       "      <td>6</td>\n",
       "    </tr>\n",
       "    <tr>\n",
       "      <th>3</th>\n",
       "      <td>2017-10-02 08:56:45</td>\n",
       "      <td>2017-10-02 09:18:03</td>\n",
       "      <td>8</td>\n",
       "    </tr>\n",
       "    <tr>\n",
       "      <th>4</th>\n",
       "      <td>2017-10-02 18:23:48</td>\n",
       "      <td>2017-10-02 18:45:05</td>\n",
       "      <td>18</td>\n",
       "    </tr>\n",
       "  </tbody>\n",
       "</table>\n",
       "</div>"
      ],
      "text/plain": [
       "           Start date             End date  Start\n",
       "0 2017-10-01 15:23:25  2017-10-01 15:26:26     15\n",
       "1 2017-10-01 15:42:57  2017-10-01 17:49:59     15\n",
       "2 2017-10-02 06:37:10  2017-10-02 06:42:53      6\n",
       "3 2017-10-02 08:56:45  2017-10-02 09:18:03      8\n",
       "4 2017-10-02 18:23:48  2017-10-02 18:45:05     18"
      ]
     },
     "execution_count": 17,
     "metadata": {},
     "output_type": "execute_result"
    }
   ],
   "source": [
    "onebike_datetimes = onebike[['Start date','End date']]\n",
    "onebike_datetimes = onebike_datetimes.copy()\n",
    "onebike_datetimes['Start date'] = pd.to_datetime(onebike_datetimes['Start date'])\n",
    "onebike_datetimes['Start'] = onebike_datetimes['Start date'].dt.hour\n",
    "onebike_datetimes.head()"
   ]
  },
  {
   "cell_type": "code",
   "execution_count": 18,
   "id": "6aeaa575",
   "metadata": {},
   "outputs": [
    {
     "name": "stdout",
     "output_type": "stream",
     "text": [
      "{'AM': 94, 'PM': 196}\n"
     ]
    }
   ],
   "source": [
    "# Create dictionary to hold results\n",
    "trip_counts = {'AM': 0, 'PM': 0}\n",
    "  \n",
    "# Loop over all trips\n",
    "for trip in onebike_datetimes['Start']:\n",
    "  # Check to see if the trip starts before noon\n",
    "  if trip < 12:\n",
    "    # Increment the counter for before noon\n",
    "    trip_counts['AM'] += 1\n",
    "  else:\n",
    "    # Increment the counter for after noon\n",
    "    trip_counts['PM'] += 1\n",
    "  \n",
    "print(trip_counts)"
   ]
  },
  {
   "cell_type": "markdown",
   "id": "2b3bd6a0",
   "metadata": {},
   "source": [
    "## Printing and parsing datetimes\n",
    "### Turning strings into datetimes\n",
    "\n"
   ]
  },
  {
   "cell_type": "code",
   "execution_count": 19,
   "id": "616bce8f",
   "metadata": {},
   "outputs": [
    {
     "name": "stdout",
     "output_type": "stream",
     "text": [
      "2017-02-03 00:00:01\n"
     ]
    }
   ],
   "source": [
    "# Import the datetime class\n",
    "from datetime import datetime\n",
    "\n",
    "# Starting string, in YYYY-MM-DD HH:MM:SS format\n",
    "s = '2017-02-03 00:00:01'\n",
    "\n",
    "# Write a format string to parse s\n",
    "fmt = '%Y-%m-%d %H:%M:%S'\n",
    "\n",
    "# Create a datetime object d\n",
    "d = datetime.strptime(s, fmt)\n",
    "\n",
    "# Print d\n",
    "print(d)"
   ]
  },
  {
   "cell_type": "markdown",
   "id": "722fe806",
   "metadata": {},
   "source": [
    "### Parsing pairs of strings as datetimes\n"
   ]
  },
  {
   "cell_type": "code",
   "execution_count": 20,
   "id": "78cdbce0",
   "metadata": {},
   "outputs": [],
   "source": [
    "onebike_datetime_strings = [('2017-10-01 15:23:25', '2017-10-01 15:26:26'),\n",
    " ('2017-10-01 15:42:57', '2017-10-01 17:49:59'),\n",
    " ('2017-10-02 06:37:10', '2017-10-02 06:42:53'),\n",
    " ('2017-10-02 08:56:45', '2017-10-02 09:18:03'),\n",
    " ('2017-10-02 18:23:48', '2017-10-02 18:45:05'),\n",
    " ('2017-10-02 18:48:08', '2017-10-02 19:10:54'),\n",
    " ('2017-10-02 19:18:10', '2017-10-02 19:31:45'),\n",
    " ('2017-10-02 19:37:32', '2017-10-02 19:46:37'),\n",
    " ('2017-10-03 08:24:16', '2017-10-03 08:32:27'),\n",
    " ('2017-10-03 18:17:07', '2017-10-03 18:27:46'),\n",
    " ('2017-10-03 19:24:10', '2017-10-03 19:52:08'),\n",
    " ('2017-10-03 20:17:06', '2017-10-03 20:23:52'),\n",
    " ('2017-10-03 20:45:21', '2017-10-03 20:57:10'),\n",
    " ('2017-10-04 07:04:57', '2017-10-04 07:13:31'),\n",
    " ('2017-10-04 07:13:42', '2017-10-04 07:21:54'),\n",
    " ('2017-10-04 14:22:12', '2017-10-04 14:50:00'),\n",
    " ('2017-10-04 15:07:27', '2017-10-04 15:44:49'),\n",
    " ('2017-10-04 15:46:41', '2017-10-04 16:32:33'),\n",
    " ('2017-10-04 16:34:44', '2017-10-04 16:46:59'),\n",
    " ('2017-10-04 17:26:06', '2017-10-04 17:31:36'),\n",
    " ('2017-10-04 17:42:03', '2017-10-04 17:50:41'),\n",
    " ('2017-10-05 07:49:02', '2017-10-05 08:12:55'),\n",
    " ('2017-10-05 08:26:21', '2017-10-05 08:29:45'),\n",
    " ('2017-10-05 08:33:27', '2017-10-05 08:38:31'),\n",
    " ('2017-10-05 16:35:35', '2017-10-05 16:51:52'),\n",
    " ('2017-10-05 17:53:31', '2017-10-05 18:16:50'),\n",
    " ('2017-10-06 08:17:17', '2017-10-06 08:38:01'),\n",
    " ('2017-10-06 11:39:40', '2017-10-06 11:50:38'),\n",
    " ('2017-10-06 12:59:54', '2017-10-06 13:13:14'),\n",
    " ('2017-10-06 13:43:05', '2017-10-06 14:14:56'),\n",
    " ('2017-10-06 14:28:15', '2017-10-06 15:09:26'),\n",
    " ('2017-10-06 15:50:10', '2017-10-06 16:12:34'),\n",
    " ('2017-10-06 16:32:16', '2017-10-06 16:39:31'),\n",
    " ('2017-10-06 16:44:08', '2017-10-06 16:48:39'),\n",
    " ('2017-10-06 16:53:43', '2017-10-06 17:09:03'),\n",
    " ('2017-10-07 11:38:55', '2017-10-07 11:53:06'),\n",
    " ('2017-10-07 14:03:36', '2017-10-07 14:07:05'),\n",
    " ('2017-10-07 14:20:03', '2017-10-07 14:27:36'),\n",
    " ('2017-10-07 14:30:50', '2017-10-07 14:44:51'),\n",
    " ('2017-10-08 00:28:26', '2017-10-08 00:30:48'),\n",
    " ('2017-10-08 11:16:21', '2017-10-08 11:33:24'),\n",
    " ('2017-10-08 12:37:03', '2017-10-08 13:01:29'),\n",
    " ('2017-10-08 13:30:37', '2017-10-08 13:57:53'),\n",
    " ('2017-10-08 14:16:40', '2017-10-08 15:07:19'),\n",
    " ('2017-10-08 15:23:50', '2017-10-08 15:50:01'),\n",
    " ('2017-10-08 15:54:12', '2017-10-08 16:17:42'),\n",
    " ('2017-10-08 16:28:52', '2017-10-08 16:35:18'),\n",
    " ('2017-10-08 23:08:14', '2017-10-08 23:33:41'),\n",
    " ('2017-10-08 23:34:49', '2017-10-08 23:45:11'),\n",
    " ('2017-10-08 23:46:47', '2017-10-09 00:10:57'),\n",
    " ('2017-10-09 00:12:58', '2017-10-09 00:36:40'),\n",
    " ('2017-10-09 00:37:02', '2017-10-09 00:53:33'),\n",
    " ('2017-10-09 01:23:29', '2017-10-09 01:48:13'),\n",
    " ('2017-10-09 01:49:25', '2017-10-09 02:13:35'),\n",
    " ('2017-10-09 02:14:11', '2017-10-09 02:29:40'),\n",
    " ('2017-10-09 13:04:32', '2017-10-09 13:13:25'),\n",
    " ('2017-10-09 14:30:10', '2017-10-09 14:38:55'),\n",
    " ('2017-10-09 15:06:47', '2017-10-09 15:11:30'),\n",
    " ('2017-10-09 16:43:25', '2017-10-09 16:45:38'),\n",
    " ('2017-10-10 15:32:58', '2017-10-10 15:51:24'),\n",
    " ('2017-10-10 16:47:55', '2017-10-10 17:03:47'),\n",
    " ('2017-10-10 17:51:05', '2017-10-10 18:00:18'),\n",
    " ('2017-10-10 18:08:12', '2017-10-10 18:19:11'),\n",
    " ('2017-10-10 19:09:35', '2017-10-10 19:14:32'),\n",
    " ('2017-10-10 19:17:11', '2017-10-10 19:23:08'),\n",
    " ('2017-10-10 19:28:11', '2017-10-10 19:44:40'),\n",
    " ('2017-10-10 19:55:35', '2017-10-10 20:11:54'),\n",
    " ('2017-10-10 22:20:43', '2017-10-10 22:33:23'),\n",
    " ('2017-10-11 04:40:52', '2017-10-11 04:59:22'),\n",
    " ('2017-10-11 06:28:58', '2017-10-11 06:40:13'),\n",
    " ('2017-10-11 16:41:07', '2017-10-11 17:01:14'),\n",
    " ('2017-10-12 08:08:30', '2017-10-12 08:35:03'),\n",
    " ('2017-10-12 08:47:02', '2017-10-12 08:59:50'),\n",
    " ('2017-10-12 13:13:39', '2017-10-12 13:37:45'),\n",
    " ('2017-10-12 13:40:12', '2017-10-12 13:48:17'),\n",
    " ('2017-10-12 13:49:56', '2017-10-12 13:53:16'),\n",
    " ('2017-10-12 14:33:18', '2017-10-12 14:39:57'),\n",
    " ('2017-10-13 15:55:39', '2017-10-13 15:59:41'),\n",
    " ('2017-10-17 17:58:48', '2017-10-17 18:01:38'),\n",
    " ('2017-10-19 20:21:45', '2017-10-19 20:29:15'),\n",
    " ('2017-10-19 21:11:39', '2017-10-19 21:29:37'),\n",
    " ('2017-10-19 21:30:01', '2017-10-19 21:47:23'),\n",
    " ('2017-10-19 21:47:34', '2017-10-19 21:57:07'),\n",
    " ('2017-10-19 21:57:24', '2017-10-19 22:09:52'),\n",
    " ('2017-10-21 12:24:09', '2017-10-21 12:36:24'),\n",
    " ('2017-10-21 12:36:37', '2017-10-21 12:42:13'),\n",
    " ('2017-10-21 13:47:43', '2017-10-22 11:09:36'),\n",
    " ('2017-10-22 13:28:53', '2017-10-22 13:31:44'),\n",
    " ('2017-10-22 13:47:05', '2017-10-22 13:56:33'),\n",
    " ('2017-10-22 14:26:41', '2017-10-22 14:32:39'),\n",
    " ('2017-10-22 14:54:41', '2017-10-22 15:09:58'),\n",
    " ('2017-10-22 16:40:29', '2017-10-22 16:51:40'),\n",
    " ('2017-10-22 17:58:46', '2017-10-22 18:28:37'),\n",
    " ('2017-10-22 18:45:16', '2017-10-22 18:50:34'),\n",
    " ('2017-10-22 18:56:22', '2017-10-22 19:11:10'),\n",
    " ('2017-10-23 10:14:08', '2017-10-23 10:35:32'),\n",
    " ('2017-10-23 11:29:36', '2017-10-23 14:38:34'),\n",
    " ('2017-10-23 15:04:52', '2017-10-23 15:32:58'),\n",
    " ('2017-10-23 15:33:48', '2017-10-23 17:06:47'),\n",
    " ('2017-10-23 17:13:16', '2017-10-23 19:31:26'),\n",
    " ('2017-10-23 19:55:03', '2017-10-23 20:25:53'),\n",
    " ('2017-10-23 21:47:54', '2017-10-23 22:18:04'),\n",
    " ('2017-10-23 22:34:12', '2017-10-23 22:48:42'),\n",
    " ('2017-10-24 06:55:01', '2017-10-24 07:02:17'),\n",
    " ('2017-10-24 14:56:07', '2017-10-24 15:03:16'),\n",
    " ('2017-10-24 15:51:36', '2017-10-24 15:59:50'),\n",
    " ('2017-10-24 16:31:10', '2017-10-24 16:55:09'),\n",
    " ('2017-10-28 14:26:14', '2017-10-28 14:32:34'),\n",
    " ('2017-11-01 09:41:54', '2017-11-01 09:52:23'),\n",
    " ('2017-11-01 20:16:11', '2017-11-01 20:32:13'),\n",
    " ('2017-11-02 19:44:29', '2017-11-02 19:50:56'),\n",
    " ('2017-11-02 20:14:37', '2017-11-02 20:30:29'),\n",
    " ('2017-11-02 21:35:47', '2017-11-02 21:38:57'),\n",
    " ('2017-11-03 09:59:27', '2017-11-03 10:11:46'),\n",
    " ('2017-11-03 10:13:22', '2017-11-03 10:32:02'),\n",
    " ('2017-11-03 10:44:25', '2017-11-03 10:50:34'),\n",
    " ('2017-11-03 16:06:43', '2017-11-03 16:44:38'),\n",
    " ('2017-11-03 16:45:54', '2017-11-03 17:00:27'),\n",
    " ('2017-11-03 17:07:15', '2017-11-03 17:35:05'),\n",
    " ('2017-11-03 17:36:05', '2017-11-03 17:46:48'),\n",
    " ('2017-11-03 17:50:31', '2017-11-03 18:00:03'),\n",
    " ('2017-11-03 19:22:56', '2017-11-03 19:45:51'),\n",
    " ('2017-11-04 13:14:10', '2017-11-04 13:26:15'),\n",
    " ('2017-11-04 14:18:37', '2017-11-04 14:30:05'),\n",
    " ('2017-11-04 14:45:59', '2017-11-04 15:03:20'),\n",
    " ('2017-11-04 15:16:03', '2017-11-04 15:44:30'),\n",
    " ('2017-11-04 16:37:46', '2017-11-04 16:58:22'),\n",
    " ('2017-11-04 17:13:19', '2017-11-04 17:34:50'),\n",
    " ('2017-11-04 18:10:34', '2017-11-04 18:58:44'),\n",
    " ('2017-11-05 01:56:50', '2017-11-05 01:01:04'),\n",
    " ('2017-11-05 08:33:33', '2017-11-05 08:53:46'),\n",
    " ('2017-11-05 08:58:08', '2017-11-05 09:03:39'),\n",
    " ('2017-11-05 11:05:08', '2017-11-05 11:30:05'),\n",
    " ('2017-11-06 08:50:18', '2017-11-06 08:59:05'),\n",
    " ('2017-11-06 09:04:03', '2017-11-06 09:13:47'),\n",
    " ('2017-11-06 16:19:36', '2017-11-06 17:02:55'),\n",
    " ('2017-11-06 17:21:27', '2017-11-06 17:34:06'),\n",
    " ('2017-11-06 17:36:01', '2017-11-06 17:57:32'),\n",
    " ('2017-11-06 17:59:52', '2017-11-06 18:15:08'),\n",
    " ('2017-11-06 18:18:36', '2017-11-06 18:21:17'),\n",
    " ('2017-11-06 19:24:31', '2017-11-06 19:37:57'),\n",
    " ('2017-11-06 19:49:16', '2017-11-06 20:03:14'),\n",
    " ('2017-11-07 07:50:48', '2017-11-07 08:01:32'),\n",
    " ('2017-11-08 13:11:51', '2017-11-08 13:18:05'),\n",
    " ('2017-11-08 21:34:47', '2017-11-08 21:46:05'),\n",
    " ('2017-11-08 22:02:30', '2017-11-08 22:04:47'),\n",
    " ('2017-11-09 07:01:11', '2017-11-09 07:12:10'),\n",
    " ('2017-11-09 08:02:02', '2017-11-09 08:08:28'),\n",
    " ('2017-11-09 08:19:59', '2017-11-09 08:32:24'),\n",
    " ('2017-11-09 08:41:31', '2017-11-09 08:48:59'),\n",
    " ('2017-11-09 09:00:06', '2017-11-09 09:09:24'),\n",
    " ('2017-11-09 09:09:37', '2017-11-09 09:24:25'),\n",
    " ('2017-11-09 13:14:37', '2017-11-09 13:25:39'),\n",
    " ('2017-11-09 15:20:07', '2017-11-09 15:31:10'),\n",
    " ('2017-11-09 18:47:08', '2017-11-09 18:53:10'),\n",
    " ('2017-11-09 23:35:02', '2017-11-09 23:43:35'),\n",
    " ('2017-11-10 07:51:33', '2017-11-10 08:02:28'),\n",
    " ('2017-11-10 08:38:28', '2017-11-10 08:42:09'),\n",
    " ('2017-11-11 18:05:25', '2017-11-11 18:13:14'),\n",
    " ('2017-11-11 19:39:12', '2017-11-11 19:46:22'),\n",
    " ('2017-11-11 21:13:19', '2017-11-11 21:16:31'),\n",
    " ('2017-11-12 09:46:19', '2017-11-12 09:51:43'),\n",
    " ('2017-11-13 13:33:42', '2017-11-13 13:54:15'),\n",
    " ('2017-11-14 08:40:29', '2017-11-14 08:55:52'),\n",
    " ('2017-11-15 06:14:05', '2017-11-15 06:30:06'),\n",
    " ('2017-11-15 08:14:59', '2017-11-15 08:23:44'),\n",
    " ('2017-11-15 10:16:44', '2017-11-15 10:33:41'),\n",
    " ('2017-11-15 10:33:58', '2017-11-15 10:54:14'),\n",
    " ('2017-11-15 11:02:15', '2017-11-15 11:14:42'),\n",
    " ('2017-11-16 09:27:41', '2017-11-16 09:38:49'),\n",
    " ('2017-11-16 09:57:41', '2017-11-16 10:18:00'),\n",
    " ('2017-11-16 17:25:05', '2017-11-16 17:44:47'),\n",
    " ('2017-11-17 13:45:54', '2017-11-17 16:36:56'),\n",
    " ('2017-11-17 19:12:49', '2017-11-17 19:31:15'),\n",
    " ('2017-11-18 10:49:06', '2017-11-18 10:55:45'),\n",
    " ('2017-11-18 11:32:12', '2017-11-18 11:44:16'),\n",
    " ('2017-11-18 18:09:01', '2017-11-18 18:14:31'),\n",
    " ('2017-11-18 18:53:10', '2017-11-18 19:01:29'),\n",
    " ('2017-11-19 14:15:41', '2017-11-19 14:31:49'),\n",
    " ('2017-11-20 21:19:19', '2017-11-20 21:41:09'),\n",
    " ('2017-11-20 22:39:48', '2017-11-20 23:23:37'),\n",
    " ('2017-11-21 17:44:25', '2017-11-21 17:51:32'),\n",
    " ('2017-11-21 18:20:52', '2017-11-21 18:34:51'),\n",
    " ('2017-11-21 18:47:32', '2017-11-21 18:51:50'),\n",
    " ('2017-11-21 19:07:57', '2017-11-21 19:14:33'),\n",
    " ('2017-11-21 20:04:56', '2017-11-21 20:08:54'),\n",
    " ('2017-11-21 21:55:47', '2017-11-21 22:08:12'),\n",
    " ('2017-11-23 23:47:43', '2017-11-23 23:57:56'),\n",
    " ('2017-11-24 06:41:25', '2017-11-24 06:53:15'),\n",
    " ('2017-11-24 06:58:56', '2017-11-24 07:33:24'),\n",
    " ('2017-11-26 12:25:49', '2017-11-26 12:41:36'),\n",
    " ('2017-11-27 05:29:04', '2017-11-27 05:54:13'),\n",
    " ('2017-11-27 06:06:47', '2017-11-27 06:11:01'),\n",
    " ('2017-11-27 06:45:14', '2017-11-27 06:55:39'),\n",
    " ('2017-11-27 09:39:44', '2017-11-27 09:47:43'),\n",
    " ('2017-11-27 11:09:18', '2017-11-27 11:20:46'),\n",
    " ('2017-11-27 11:31:46', '2017-11-27 11:35:44'),\n",
    " ('2017-11-27 12:07:14', '2017-11-27 12:12:36'),\n",
    " ('2017-11-27 12:21:40', '2017-11-27 12:26:44'),\n",
    " ('2017-11-27 17:26:31', '2017-11-27 17:36:07'),\n",
    " ('2017-11-27 18:11:49', '2017-11-27 18:29:04'),\n",
    " ('2017-11-27 19:36:16', '2017-11-27 19:47:17'),\n",
    " ('2017-11-27 20:12:57', '2017-11-27 20:17:33'),\n",
    " ('2017-11-28 08:18:06', '2017-11-28 08:41:53'),\n",
    " ('2017-11-28 19:17:23', '2017-11-28 19:34:01'),\n",
    " ('2017-11-28 19:34:15', '2017-11-28 19:46:24'),\n",
    " ('2017-11-28 21:27:29', '2017-11-28 21:39:32'),\n",
    " ('2017-11-29 07:47:38', '2017-11-29 07:51:18'),\n",
    " ('2017-11-29 09:50:12', '2017-11-29 09:53:44'),\n",
    " ('2017-11-29 17:03:42', '2017-11-29 17:16:21'),\n",
    " ('2017-11-29 18:19:15', '2017-11-29 18:23:43'),\n",
    " ('2017-12-01 17:03:58', '2017-12-01 17:10:12'),\n",
    " ('2017-12-02 07:55:56', '2017-12-02 08:01:01'),\n",
    " ('2017-12-02 09:16:14', '2017-12-02 09:21:18'),\n",
    " ('2017-12-02 19:48:29', '2017-12-02 19:53:18'),\n",
    " ('2017-12-03 14:36:29', '2017-12-03 15:20:09'),\n",
    " ('2017-12-03 16:04:02', '2017-12-03 16:25:30'),\n",
    " ('2017-12-03 16:40:26', '2017-12-03 16:43:58'),\n",
    " ('2017-12-03 17:20:17', '2017-12-03 18:04:33'),\n",
    " ('2017-12-04 08:34:24', '2017-12-04 08:51:00'),\n",
    " ('2017-12-04 17:49:26', '2017-12-04 17:53:57'),\n",
    " ('2017-12-04 18:38:52', '2017-12-04 18:50:33'),\n",
    " ('2017-12-04 21:39:20', '2017-12-04 21:46:58'),\n",
    " ('2017-12-04 21:54:21', '2017-12-04 21:56:17'),\n",
    " ('2017-12-05 08:50:50', '2017-12-05 08:52:54'),\n",
    " ('2017-12-06 08:19:38', '2017-12-06 08:24:14'),\n",
    " ('2017-12-06 18:19:19', '2017-12-06 18:28:11'),\n",
    " ('2017-12-06 18:28:55', '2017-12-06 18:33:12'),\n",
    " ('2017-12-06 20:03:29', '2017-12-06 20:21:38'),\n",
    " ('2017-12-06 20:36:42', '2017-12-06 20:39:57'),\n",
    " ('2017-12-07 05:54:51', '2017-12-07 06:01:15'),\n",
    " ('2017-12-08 16:47:18', '2017-12-08 16:55:49'),\n",
    " ('2017-12-08 19:15:02', '2017-12-08 19:29:12'),\n",
    " ('2017-12-09 22:39:37', '2017-12-09 22:47:19'),\n",
    " ('2017-12-09 23:00:10', '2017-12-09 23:05:32'),\n",
    " ('2017-12-10 00:39:24', '2017-12-10 00:56:02'),\n",
    " ('2017-12-10 01:02:42', '2017-12-10 01:08:09'),\n",
    " ('2017-12-10 01:08:57', '2017-12-10 01:11:30'),\n",
    " ('2017-12-10 13:49:09', '2017-12-10 13:51:41'),\n",
    " ('2017-12-10 15:14:29', '2017-12-10 15:18:19'),\n",
    " ('2017-12-10 15:31:07', '2017-12-10 15:36:28'),\n",
    " ('2017-12-10 16:20:06', '2017-12-10 16:30:31'),\n",
    " ('2017-12-10 17:07:54', '2017-12-10 17:14:25'),\n",
    " ('2017-12-10 17:23:47', '2017-12-10 17:45:25'),\n",
    " ('2017-12-11 06:17:06', '2017-12-11 06:34:04'),\n",
    " ('2017-12-11 09:08:41', '2017-12-11 09:12:21'),\n",
    " ('2017-12-11 09:15:41', '2017-12-11 09:20:18'),\n",
    " ('2017-12-12 08:55:53', '2017-12-12 08:59:34'),\n",
    " ('2017-12-13 17:14:56', '2017-12-13 17:18:32'),\n",
    " ('2017-12-13 18:52:16', '2017-12-13 19:00:45'),\n",
    " ('2017-12-14 09:01:10', '2017-12-14 09:11:06'),\n",
    " ('2017-12-14 09:12:59', '2017-12-14 09:19:06'),\n",
    " ('2017-12-14 11:54:33', '2017-12-14 12:02:00'),\n",
    " ('2017-12-14 14:40:23', '2017-12-14 14:44:40'),\n",
    " ('2017-12-14 15:08:55', '2017-12-14 15:26:24'),\n",
    " ('2017-12-14 17:46:17', '2017-12-14 18:09:04'),\n",
    " ('2017-12-15 09:08:12', '2017-12-15 09:23:45'),\n",
    " ('2017-12-16 09:33:46', '2017-12-16 09:36:17'),\n",
    " ('2017-12-16 11:02:31', '2017-12-16 11:05:04'),\n",
    " ('2017-12-17 10:09:47', '2017-12-17 10:32:03'),\n",
    " ('2017-12-18 08:02:36', '2017-12-18 08:07:34'),\n",
    " ('2017-12-18 16:03:00', '2017-12-18 16:09:20'),\n",
    " ('2017-12-18 16:30:07', '2017-12-18 16:53:12'),\n",
    " ('2017-12-18 19:18:23', '2017-12-18 19:22:08'),\n",
    " ('2017-12-18 20:14:46', '2017-12-18 20:17:47'),\n",
    " ('2017-12-19 19:14:08', '2017-12-19 19:23:49'),\n",
    " ('2017-12-19 19:39:36', '2017-12-19 19:43:46'),\n",
    " ('2017-12-20 08:05:14', '2017-12-20 08:10:46'),\n",
    " ('2017-12-20 08:15:45', '2017-12-20 08:29:50'),\n",
    " ('2017-12-20 08:33:32', '2017-12-20 08:38:09'),\n",
    " ('2017-12-20 13:43:36', '2017-12-20 13:54:39'),\n",
    " ('2017-12-20 18:57:53', '2017-12-20 19:06:54'),\n",
    " ('2017-12-21 07:21:11', '2017-12-21 07:32:03'),\n",
    " ('2017-12-21 08:01:58', '2017-12-21 08:06:15'),\n",
    " ('2017-12-21 13:20:54', '2017-12-21 13:33:49'),\n",
    " ('2017-12-21 15:26:08', '2017-12-21 15:34:27'),\n",
    " ('2017-12-21 18:09:46', '2017-12-21 18:38:50'),\n",
    " ('2017-12-22 16:14:21', '2017-12-22 16:21:46'),\n",
    " ('2017-12-22 16:29:17', '2017-12-22 16:34:14'),\n",
    " ('2017-12-25 12:49:51', '2017-12-25 13:18:27'),\n",
    " ('2017-12-25 13:46:44', '2017-12-25 14:20:50'),\n",
    " ('2017-12-26 10:40:16', '2017-12-26 10:53:45'),\n",
    " ('2017-12-27 16:56:12', '2017-12-27 17:17:39'),\n",
    " ('2017-12-29 06:02:34', '2017-12-29 06:12:30'),\n",
    " ('2017-12-29 12:21:03', '2017-12-29 12:46:16'),\n",
    " ('2017-12-29 14:32:55', '2017-12-29 14:43:46'),\n",
    " ('2017-12-29 15:08:26', '2017-12-29 15:18:51'),\n",
    " ('2017-12-29 20:33:34', '2017-12-29 20:38:13'),\n",
    " ('2017-12-30 13:51:03', '2017-12-30 13:54:33'),\n",
    " ('2017-12-30 15:09:03', '2017-12-30 15:19:13')]"
   ]
  },
  {
   "cell_type": "code",
   "execution_count": 21,
   "id": "88831418",
   "metadata": {},
   "outputs": [
    {
     "name": "stdout",
     "output_type": "stream",
     "text": [
      "[{'start': datetime.datetime(2017, 10, 1, 15, 23, 25), 'end': datetime.datetime(2017, 10, 1, 15, 26, 26)}, {'start': datetime.datetime(2017, 10, 1, 15, 42, 57), 'end': datetime.datetime(2017, 10, 1, 17, 49, 59)}, {'start': datetime.datetime(2017, 10, 2, 6, 37, 10), 'end': datetime.datetime(2017, 10, 2, 6, 42, 53)}, {'start': datetime.datetime(2017, 10, 2, 8, 56, 45), 'end': datetime.datetime(2017, 10, 2, 9, 18, 3)}, {'start': datetime.datetime(2017, 10, 2, 18, 23, 48), 'end': datetime.datetime(2017, 10, 2, 18, 45, 5)}, {'start': datetime.datetime(2017, 10, 2, 18, 48, 8), 'end': datetime.datetime(2017, 10, 2, 19, 10, 54)}, {'start': datetime.datetime(2017, 10, 2, 19, 18, 10), 'end': datetime.datetime(2017, 10, 2, 19, 31, 45)}, {'start': datetime.datetime(2017, 10, 2, 19, 37, 32), 'end': datetime.datetime(2017, 10, 2, 19, 46, 37)}, {'start': datetime.datetime(2017, 10, 3, 8, 24, 16), 'end': datetime.datetime(2017, 10, 3, 8, 32, 27)}, {'start': datetime.datetime(2017, 10, 3, 18, 17, 7), 'end': datetime.datetime(2017, 10, 3, 18, 27, 46)}]\n"
     ]
    }
   ],
   "source": [
    "# Write down the format string\n",
    "fmt = \"%Y-%m-%d %H:%M:%S\"\n",
    "\n",
    "# Initialize a list for holding the pairs of datetime objects\n",
    "onebike_datetimes = []\n",
    "\n",
    "# Loop over all trips\n",
    "for (start, end) in onebike_datetime_strings:\n",
    "  trip = {'start': datetime.strptime(start, fmt),\n",
    "          'end': datetime.strptime(end, fmt)}\n",
    "  \n",
    "  # Append the trip\n",
    "  onebike_datetimes.append(trip)\n",
    "print(onebike_datetimes[0:10])"
   ]
  },
  {
   "cell_type": "markdown",
   "id": "fc2fbe69",
   "metadata": {},
   "source": [
    "### Recreating ISO format with strftime()\n"
   ]
  },
  {
   "cell_type": "code",
   "execution_count": 22,
   "id": "2d19fdeb",
   "metadata": {},
   "outputs": [
    {
     "name": "stdout",
     "output_type": "stream",
     "text": [
      "2017-10-01T15:23:25\n",
      "2017-10-01T15:23:25\n"
     ]
    }
   ],
   "source": [
    "# Import datetime\n",
    "from datetime import datetime\n",
    "\n",
    "# Pull out the start of the first trip\n",
    "first_start = onebike_datetimes[0]['start']\n",
    "\n",
    "# Format to feed to strftime()\n",
    "fmt = \"%Y-%m-%dT%H:%M:%S\"\n",
    "\n",
    "# Print out date with .isoformat(), then with .strftime() to compare\n",
    "print(first_start.isoformat())\n",
    "print(first_start.strftime(fmt))"
   ]
  },
  {
   "cell_type": "markdown",
   "id": "e7c0e94a",
   "metadata": {},
   "source": [
    "### Unix timestamps\n"
   ]
  },
  {
   "cell_type": "code",
   "execution_count": 23,
   "id": "6061ee0b",
   "metadata": {},
   "outputs": [
    {
     "name": "stdout",
     "output_type": "stream",
     "text": [
      "[datetime.datetime(2017, 12, 30, 16, 19, 13), datetime.datetime(2017, 12, 30, 16, 9, 3)]\n"
     ]
    }
   ],
   "source": [
    "# Import datetime\n",
    "from datetime import datetime\n",
    "\n",
    "# Starting timestamps\n",
    "timestamps = [1514665153, 1514664543]\n",
    "\n",
    "# Datetime objects\n",
    "dts = []\n",
    "\n",
    "# Loop\n",
    "for ts in timestamps:\n",
    "  dts.append(datetime.fromtimestamp(ts))\n",
    "  \n",
    "# Print results\n",
    "print(dts)"
   ]
  },
  {
   "cell_type": "markdown",
   "id": "f534a08c",
   "metadata": {},
   "source": [
    "## Working with durations\n",
    "### Turning pairs of datetimes into durations\n",
    "\n"
   ]
  },
  {
   "cell_type": "code",
   "execution_count": 24,
   "id": "ef662f9f",
   "metadata": {},
   "outputs": [],
   "source": [
    "# Initialize a list for all the trip durations\n",
    "onebike_durations = []\n",
    "\n",
    "for trip in onebike_datetimes:\n",
    "  # Create a timedelta object corresponding to the length of the trip\n",
    "  trip_duration = trip['end'] - trip['start']\n",
    "  \n",
    "  # Get the total elapsed seconds in trip_duration\n",
    "  trip_length_seconds = trip_duration.total_seconds()\n",
    "  \n",
    "  # Append the results to our list\n",
    "  onebike_durations.append(trip_length_seconds)"
   ]
  },
  {
   "cell_type": "code",
   "execution_count": 25,
   "id": "39e1ecb6",
   "metadata": {},
   "outputs": [
    {
     "name": "stdout",
     "output_type": "stream",
     "text": [
      "[181.0, 7622.0, 343.0, 1278.0, 1277.0, 1366.0, 815.0, 545.0, 491.0, 639.0]\n"
     ]
    }
   ],
   "source": [
    "print(onebike_durations[0:10])"
   ]
  },
  {
   "cell_type": "markdown",
   "id": "8ba57851",
   "metadata": {},
   "source": [
    "### Average trip time\n"
   ]
  },
  {
   "cell_type": "code",
   "execution_count": 26,
   "id": "de846b95",
   "metadata": {},
   "outputs": [
    {
     "name": "stdout",
     "output_type": "stream",
     "text": [
      "1178.9310344827586\n"
     ]
    }
   ],
   "source": [
    "# What was the total duration of all trips?\n",
    "total_elapsed_time = sum(onebike_durations)\n",
    "\n",
    "# What was the total number of trips?\n",
    "number_of_trips = len(onebike_durations)\n",
    "  \n",
    "# Divide the total duration by the number of trips\n",
    "print(total_elapsed_time / number_of_trips)"
   ]
  },
  {
   "cell_type": "markdown",
   "id": "6be26e62",
   "metadata": {},
   "source": [
    "### The long and the short of why time is hard\n"
   ]
  },
  {
   "cell_type": "code",
   "execution_count": 27,
   "id": "45eb0975",
   "metadata": {},
   "outputs": [
    {
     "name": "stdout",
     "output_type": "stream",
     "text": [
      "The shortest trip was -3346.0 seconds\n",
      "The longest trip was 76913.0 seconds\n"
     ]
    }
   ],
   "source": [
    "# Calculate shortest and longest trips\n",
    "shortest_trip = min(onebike_durations)\n",
    "longest_trip = max(onebike_durations)\n",
    "\n",
    "# Print out the results\n",
    "print(\"The shortest trip was \" + str(shortest_trip) + \" seconds\")\n",
    "print(\"The longest trip was \" + str(longest_trip) + \" seconds\")"
   ]
  },
  {
   "cell_type": "markdown",
   "id": "f7a4b680",
   "metadata": {},
   "source": [
    "# 3. Time Zones and Daylight Saving\n",
    "## UTC offsets\n",
    "### Creating timezone aware datetimes\n"
   ]
  },
  {
   "cell_type": "code",
   "execution_count": 28,
   "id": "442b9661",
   "metadata": {},
   "outputs": [
    {
     "name": "stdout",
     "output_type": "stream",
     "text": [
      "2017-10-01T15:26:26+00:00\n"
     ]
    }
   ],
   "source": [
    "# Import datetime, timezone\n",
    "from datetime import datetime, timezone\n",
    "\n",
    "# October 1, 2017 at 15:26:26, UTC\n",
    "dt = datetime(2017, 10, 1, 15, 26, 26, tzinfo=timezone.utc)\n",
    "\n",
    "# Print results\n",
    "print(dt.isoformat())"
   ]
  },
  {
   "cell_type": "code",
   "execution_count": 29,
   "id": "d6462b4f",
   "metadata": {},
   "outputs": [
    {
     "name": "stdout",
     "output_type": "stream",
     "text": [
      "2017-10-01T15:26:26-08:00\n"
     ]
    }
   ],
   "source": [
    "# Import datetime, timedelta, timezone\n",
    "from datetime import datetime, timedelta, timezone\n",
    "\n",
    "# Create a timezone for Pacific Standard Time, or UTC-8\n",
    "pst = timezone(timedelta(hours=-8))\n",
    "\n",
    "# October 1, 2017 at 15:26:26, UTC-8\n",
    "dt = datetime(2017, 10, 1, 15, 26, 26, tzinfo=pst)\n",
    "\n",
    "# Print results\n",
    "print(dt.isoformat())"
   ]
  },
  {
   "cell_type": "code",
   "execution_count": 30,
   "id": "bc3a2b3c",
   "metadata": {},
   "outputs": [
    {
     "name": "stdout",
     "output_type": "stream",
     "text": [
      "2017-10-01T15:26:26+11:00\n"
     ]
    }
   ],
   "source": [
    "# Import datetime, timedelta, timezone\n",
    "from datetime import datetime, timedelta, timezone\n",
    "\n",
    "# Create a timezone for Australian Eastern Daylight Time, or UTC+11\n",
    "aedt = timezone(timedelta(hours=11))\n",
    "\n",
    "# October 1, 2017 at 15:26:26, UTC+11\n",
    "dt = datetime(2017, 10, 1, 15, 26, 26, tzinfo=aedt)\n",
    "\n",
    "# Print results\n",
    "print(dt.isoformat())"
   ]
  },
  {
   "cell_type": "markdown",
   "id": "363ea961",
   "metadata": {},
   "source": [
    "### Setting timezones\n"
   ]
  },
  {
   "cell_type": "code",
   "execution_count": 31,
   "id": "ac10fb11",
   "metadata": {},
   "outputs": [],
   "source": [
    "# Create a timezone object corresponding to UTC-4\n",
    "edt = timezone(timedelta(hours=-4))\n",
    "\n",
    "# Loop over trips, updating the start and end datetimes to be in UTC-4\n",
    "for trip in onebike_datetimes[:10]:\n",
    "  # Update trip['start'] and trip['end']\n",
    "  trip['start'] = trip['start'].replace(tzinfo=edt)\n",
    "  trip['end'] = trip['end'].replace(tzinfo=edt)"
   ]
  },
  {
   "cell_type": "code",
   "execution_count": 32,
   "id": "1baf800f",
   "metadata": {},
   "outputs": [
    {
     "name": "stdout",
     "output_type": "stream",
     "text": [
      "[{'start': datetime.datetime(2017, 10, 1, 15, 23, 25, tzinfo=datetime.timezone(datetime.timedelta(days=-1, seconds=72000))), 'end': datetime.datetime(2017, 10, 1, 15, 26, 26, tzinfo=datetime.timezone(datetime.timedelta(days=-1, seconds=72000)))}, {'start': datetime.datetime(2017, 10, 1, 15, 42, 57, tzinfo=datetime.timezone(datetime.timedelta(days=-1, seconds=72000))), 'end': datetime.datetime(2017, 10, 1, 17, 49, 59, tzinfo=datetime.timezone(datetime.timedelta(days=-1, seconds=72000)))}, {'start': datetime.datetime(2017, 10, 2, 6, 37, 10, tzinfo=datetime.timezone(datetime.timedelta(days=-1, seconds=72000))), 'end': datetime.datetime(2017, 10, 2, 6, 42, 53, tzinfo=datetime.timezone(datetime.timedelta(days=-1, seconds=72000)))}, {'start': datetime.datetime(2017, 10, 2, 8, 56, 45, tzinfo=datetime.timezone(datetime.timedelta(days=-1, seconds=72000))), 'end': datetime.datetime(2017, 10, 2, 9, 18, 3, tzinfo=datetime.timezone(datetime.timedelta(days=-1, seconds=72000)))}, {'start': datetime.datetime(2017, 10, 2, 18, 23, 48, tzinfo=datetime.timezone(datetime.timedelta(days=-1, seconds=72000))), 'end': datetime.datetime(2017, 10, 2, 18, 45, 5, tzinfo=datetime.timezone(datetime.timedelta(days=-1, seconds=72000)))}, {'start': datetime.datetime(2017, 10, 2, 18, 48, 8, tzinfo=datetime.timezone(datetime.timedelta(days=-1, seconds=72000))), 'end': datetime.datetime(2017, 10, 2, 19, 10, 54, tzinfo=datetime.timezone(datetime.timedelta(days=-1, seconds=72000)))}, {'start': datetime.datetime(2017, 10, 2, 19, 18, 10, tzinfo=datetime.timezone(datetime.timedelta(days=-1, seconds=72000))), 'end': datetime.datetime(2017, 10, 2, 19, 31, 45, tzinfo=datetime.timezone(datetime.timedelta(days=-1, seconds=72000)))}, {'start': datetime.datetime(2017, 10, 2, 19, 37, 32, tzinfo=datetime.timezone(datetime.timedelta(days=-1, seconds=72000))), 'end': datetime.datetime(2017, 10, 2, 19, 46, 37, tzinfo=datetime.timezone(datetime.timedelta(days=-1, seconds=72000)))}, {'start': datetime.datetime(2017, 10, 3, 8, 24, 16, tzinfo=datetime.timezone(datetime.timedelta(days=-1, seconds=72000))), 'end': datetime.datetime(2017, 10, 3, 8, 32, 27, tzinfo=datetime.timezone(datetime.timedelta(days=-1, seconds=72000)))}, {'start': datetime.datetime(2017, 10, 3, 18, 17, 7, tzinfo=datetime.timezone(datetime.timedelta(days=-1, seconds=72000))), 'end': datetime.datetime(2017, 10, 3, 18, 27, 46, tzinfo=datetime.timezone(datetime.timedelta(days=-1, seconds=72000)))}]\n"
     ]
    }
   ],
   "source": [
    "print(onebike_datetimes[:10])"
   ]
  },
  {
   "cell_type": "markdown",
   "id": "1c3991d9",
   "metadata": {},
   "source": [
    "### What time did the bike leave in UTC?\n"
   ]
  },
  {
   "cell_type": "code",
   "execution_count": 33,
   "id": "a7d9716f",
   "metadata": {},
   "outputs": [
    {
     "name": "stdout",
     "output_type": "stream",
     "text": [
      "Original: 2017-10-01 15:23:25-04:00 | UTC: 2017-10-01T19:23:25+00:00\n",
      "Original: 2017-10-01 15:42:57-04:00 | UTC: 2017-10-01T19:42:57+00:00\n",
      "Original: 2017-10-02 06:37:10-04:00 | UTC: 2017-10-02T10:37:10+00:00\n",
      "Original: 2017-10-02 08:56:45-04:00 | UTC: 2017-10-02T12:56:45+00:00\n",
      "Original: 2017-10-02 18:23:48-04:00 | UTC: 2017-10-02T22:23:48+00:00\n",
      "Original: 2017-10-02 18:48:08-04:00 | UTC: 2017-10-02T22:48:08+00:00\n",
      "Original: 2017-10-02 19:18:10-04:00 | UTC: 2017-10-02T23:18:10+00:00\n",
      "Original: 2017-10-02 19:37:32-04:00 | UTC: 2017-10-02T23:37:32+00:00\n",
      "Original: 2017-10-03 08:24:16-04:00 | UTC: 2017-10-03T12:24:16+00:00\n",
      "Original: 2017-10-03 18:17:07-04:00 | UTC: 2017-10-03T22:17:07+00:00\n"
     ]
    }
   ],
   "source": [
    "# Loop over the trips\n",
    "for trip in onebike_datetimes[:10]:\n",
    "  # Pull out the start\n",
    "  dt = trip['start']\n",
    "  # Move dt to be in UTC\n",
    "  dt = dt.astimezone(timezone.utc)\n",
    "  \n",
    "  # Print the start time in UTC\n",
    "  print('Original:', trip['start'], '| UTC:', dt.isoformat())"
   ]
  },
  {
   "cell_type": "markdown",
   "id": "2663a274",
   "metadata": {},
   "source": [
    "## Time zone database\n",
    "### Putting the bike trips into the right time zone\n"
   ]
  },
  {
   "cell_type": "code",
   "execution_count": 34,
   "id": "f0db5998",
   "metadata": {},
   "outputs": [],
   "source": [
    "# Import tz\n",
    "from dateutil import tz\n",
    "\n",
    "# Create a timezone object for Eastern Time\n",
    "et = tz.gettz('America/New_York')\n",
    "\n",
    "# Loop over trips, updating the datetimes to be in Eastern Time\n",
    "for trip in onebike_datetimes[:10]:\n",
    "  # Update trip['start'] and trip['end']\n",
    "  trip['start'] = trip['start'].replace(tzinfo=et)\n",
    "  trip['end'] = trip['end'].replace(tzinfo=et)"
   ]
  },
  {
   "cell_type": "code",
   "execution_count": 35,
   "id": "47129732",
   "metadata": {},
   "outputs": [
    {
     "data": {
      "text/plain": [
       "[{'start': datetime.datetime(2017, 10, 1, 15, 23, 25, tzinfo=tzfile('/usr/share/zoneinfo/America/New_York')),\n",
       "  'end': datetime.datetime(2017, 10, 1, 15, 26, 26, tzinfo=tzfile('/usr/share/zoneinfo/America/New_York'))},\n",
       " {'start': datetime.datetime(2017, 10, 1, 15, 42, 57, tzinfo=tzfile('/usr/share/zoneinfo/America/New_York')),\n",
       "  'end': datetime.datetime(2017, 10, 1, 17, 49, 59, tzinfo=tzfile('/usr/share/zoneinfo/America/New_York'))},\n",
       " {'start': datetime.datetime(2017, 10, 2, 6, 37, 10, tzinfo=tzfile('/usr/share/zoneinfo/America/New_York')),\n",
       "  'end': datetime.datetime(2017, 10, 2, 6, 42, 53, tzinfo=tzfile('/usr/share/zoneinfo/America/New_York'))},\n",
       " {'start': datetime.datetime(2017, 10, 2, 8, 56, 45, tzinfo=tzfile('/usr/share/zoneinfo/America/New_York')),\n",
       "  'end': datetime.datetime(2017, 10, 2, 9, 18, 3, tzinfo=tzfile('/usr/share/zoneinfo/America/New_York'))},\n",
       " {'start': datetime.datetime(2017, 10, 2, 18, 23, 48, tzinfo=tzfile('/usr/share/zoneinfo/America/New_York')),\n",
       "  'end': datetime.datetime(2017, 10, 2, 18, 45, 5, tzinfo=tzfile('/usr/share/zoneinfo/America/New_York'))}]"
      ]
     },
     "execution_count": 35,
     "metadata": {},
     "output_type": "execute_result"
    }
   ],
   "source": [
    "onebike_datetimes[:5]"
   ]
  },
  {
   "cell_type": "markdown",
   "id": "7b4e7899",
   "metadata": {},
   "source": [
    "### What time did the bike leave? (Global edition)\n"
   ]
  },
  {
   "cell_type": "code",
   "execution_count": 36,
   "id": "dcadfa16",
   "metadata": {},
   "outputs": [
    {
     "name": "stdout",
     "output_type": "stream",
     "text": [
      "2017-10-01T15:23:25-04:00\n",
      "2017-10-01T20:23:25+01:00\n"
     ]
    }
   ],
   "source": [
    "# Create the timezone object\n",
    "uk = tz.gettz('Europe/London')\n",
    "\n",
    "# Pull out the start of the first trip\n",
    "local = onebike_datetimes[0]['start']\n",
    "\n",
    "# What time was it in the UK?\n",
    "notlocal = local.astimezone(uk)\n",
    "\n",
    "# Print them out and see the difference\n",
    "print(local.isoformat())\n",
    "print(notlocal.isoformat())"
   ]
  },
  {
   "cell_type": "code",
   "execution_count": 37,
   "id": "59f6f3e8",
   "metadata": {},
   "outputs": [
    {
     "name": "stdout",
     "output_type": "stream",
     "text": [
      "2017-10-01T15:23:25-04:00\n",
      "2017-10-02T00:53:25+05:30\n"
     ]
    }
   ],
   "source": [
    "# Create the timezone object\n",
    "ist = tz.gettz('Asia/Kolkata')\n",
    "\n",
    "# Pull out the start of the first trip\n",
    "local = onebike_datetimes[0]['start']\n",
    "\n",
    "# What time was it in India?\n",
    "notlocal = local.astimezone(ist)\n",
    "\n",
    "# Print them out and see the difference\n",
    "print(local.isoformat())\n",
    "print(notlocal.isoformat())"
   ]
  },
  {
   "cell_type": "code",
   "execution_count": 38,
   "id": "5fd9c1bc",
   "metadata": {},
   "outputs": [
    {
     "name": "stdout",
     "output_type": "stream",
     "text": [
      "2017-10-01T15:23:25-04:00\n",
      "2017-10-02T09:23:25+14:00\n"
     ]
    }
   ],
   "source": [
    "# Create the timezone object\n",
    "sm = tz.gettz('Pacific/Apia')\n",
    "\n",
    "# Pull out the start of the first trip\n",
    "local = onebike_datetimes[0]['start']\n",
    "\n",
    "# What time was it in Samoa?\n",
    "notlocal = local.astimezone(sm)\n",
    "\n",
    "# Print them out and see the difference\n",
    "print(local.isoformat())\n",
    "print(notlocal.isoformat())"
   ]
  },
  {
   "cell_type": "markdown",
   "id": "1a13e6de",
   "metadata": {},
   "source": [
    "## Starting daylight saving time\n",
    "### How many hours elapsed around daylight saving?\n"
   ]
  },
  {
   "cell_type": "code",
   "execution_count": 39,
   "id": "56a5c537",
   "metadata": {},
   "outputs": [
    {
     "name": "stdout",
     "output_type": "stream",
     "text": [
      "2017-03-12T00:00:00-05:00 to 2017-03-12T06:00:00-04:00\n"
     ]
    }
   ],
   "source": [
    "# Import datetime, timedelta, tz, timezone\n",
    "from datetime import datetime, timedelta, timezone\n",
    "from dateutil import tz\n",
    "\n",
    "# Start on March 12, 2017, midnight, then add 6 hours\n",
    "start = datetime(2017, 3, 12, tzinfo = tz.gettz('America/New_York'))\n",
    "end = start + timedelta(hours=6)\n",
    "print(start.isoformat() + \" to \" + end.isoformat())"
   ]
  },
  {
   "cell_type": "code",
   "execution_count": 40,
   "id": "e4014c92",
   "metadata": {},
   "outputs": [
    {
     "name": "stdout",
     "output_type": "stream",
     "text": [
      "6.0\n"
     ]
    }
   ],
   "source": [
    "# How many hours have elapsed?\n",
    "print((end - start).total_seconds()/(60*60))"
   ]
  },
  {
   "cell_type": "code",
   "execution_count": 41,
   "id": "5ad85b60",
   "metadata": {},
   "outputs": [
    {
     "name": "stdout",
     "output_type": "stream",
     "text": [
      "5.0\n"
     ]
    }
   ],
   "source": [
    "# What if we move to UTC?\n",
    "print((end.astimezone(timezone.utc) - start.astimezone(timezone.utc))\\\n",
    "      .total_seconds()/(60*60))"
   ]
  },
  {
   "cell_type": "markdown",
   "id": "825bc330",
   "metadata": {},
   "source": [
    "### March 29, throughout a decade\n"
   ]
  },
  {
   "cell_type": "code",
   "execution_count": 42,
   "id": "581590e5",
   "metadata": {},
   "outputs": [
    {
     "name": "stdout",
     "output_type": "stream",
     "text": [
      "2000-03-29T00:00:00+01:00\n",
      "2001-03-29T00:00:00+01:00\n",
      "2002-03-29T00:00:00+00:00\n",
      "2003-03-29T00:00:00+00:00\n",
      "2004-03-29T00:00:00+01:00\n",
      "2005-03-29T00:00:00+01:00\n",
      "2006-03-29T00:00:00+01:00\n",
      "2007-03-29T00:00:00+01:00\n",
      "2008-03-29T00:00:00+00:00\n",
      "2009-03-29T00:00:00+00:00\n",
      "2010-03-29T00:00:00+01:00\n"
     ]
    }
   ],
   "source": [
    "# Import datetime and tz\n",
    "from datetime import datetime\n",
    "from dateutil import tz\n",
    "\n",
    "# Create starting date\n",
    "dt = datetime(2000, 3, 29, tzinfo = tz.gettz('Europe/London'))\n",
    "\n",
    "# Loop over the dates, replacing the year, and print the ISO timestamp\n",
    "for y in range(2000, 2011):\n",
    "  print(dt.replace(year=y).isoformat())"
   ]
  },
  {
   "cell_type": "markdown",
   "id": "cb31eada",
   "metadata": {},
   "source": [
    "## Ending daylight saving time\n",
    "### Finding ambiguous datetimes\n"
   ]
  },
  {
   "cell_type": "code",
   "execution_count": 43,
   "id": "97886a4a",
   "metadata": {},
   "outputs": [
    {
     "name": "stdout",
     "output_type": "stream",
     "text": [
      "Ambiguous start at 2017-11-05 01:56:50\n",
      "Ambiguous end at 2017-11-05 01:01:04\n"
     ]
    }
   ],
   "source": [
    "# Loop over trips\n",
    "for trip in onebike_datetimes:\n",
    "  # Rides with ambiguous start\n",
    "  if tz.datetime_ambiguous(trip['start'].replace(tzinfo=et)):\n",
    "    print(\"Ambiguous start at \" + str(trip['start']))\n",
    "  # Rides with ambiguous end\n",
    "  if tz.datetime_ambiguous(trip['end'].replace(tzinfo=et)):\n",
    "    print(\"Ambiguous end at \" + str(trip['end']))"
   ]
  },
  {
   "cell_type": "markdown",
   "id": "28296532",
   "metadata": {},
   "source": [
    "### Cleaning daylight saving data with fold\n"
   ]
  },
  {
   "cell_type": "code",
   "execution_count": 44,
   "id": "43c258ab",
   "metadata": {},
   "outputs": [
    {
     "name": "stdout",
     "output_type": "stream",
     "text": [
      "Shortest trip: -3346.0\n"
     ]
    }
   ],
   "source": [
    "trip_durations = []\n",
    "for trip in onebike_datetimes:\n",
    "  # When the start is later than the end, set the fold to be 1\n",
    "  if trip['start'] > trip['end']:\n",
    "    trip['end'] = tz.enfold(trip['end'])\n",
    "  # Convert to UTC\n",
    "  start = trip['start'].astimezone(tz.UTC)\n",
    "  end = trip['end'].astimezone(tz.UTC)\n",
    "\n",
    "  # Subtract the difference\n",
    "  trip_length_seconds = (end-start).total_seconds()\n",
    "  trip_durations.append(trip_length_seconds)\n",
    "\n",
    "# Take the shortest trip duration\n",
    "print(\"Shortest trip: \" + str(min(trip_durations)))"
   ]
  },
  {
   "cell_type": "markdown",
   "id": "3d4b6da1",
   "metadata": {},
   "source": [
    "# 4. Easy and Powerful: Dates and Times in Pandas\n",
    "## Reading date and time data in Pandas\n",
    "### Loading a csv file in Pandas\n",
    "\n"
   ]
  },
  {
   "cell_type": "code",
   "execution_count": 45,
   "id": "9f773432",
   "metadata": {},
   "outputs": [
    {
     "data": {
      "text/plain": [
       "Start date                        2017-10-01 15:23:25\n",
       "End date                          2017-10-01 15:26:26\n",
       "Start station number                            31038\n",
       "Start station                    Glebe Rd & 11th St N\n",
       "End station number                              31036\n",
       "End station             George Mason Dr & Wilson Blvd\n",
       "Bike number                                    W20529\n",
       "Member type                                    Member\n",
       "Name: 0, dtype: object"
      ]
     },
     "execution_count": 45,
     "metadata": {},
     "output_type": "execute_result"
    }
   ],
   "source": [
    "# Import pandas\n",
    "import pandas as pd\n",
    "\n",
    "# Load CSV into the rides variable\n",
    "rides = pd.read_csv('capital-onebike.csv', \n",
    "                    parse_dates = [\"Start date\", \"End date\"])\n",
    "\n",
    "# Print the initial (0th) row\n",
    "rides.iloc[0]"
   ]
  },
  {
   "cell_type": "markdown",
   "id": "a7b9d8b3",
   "metadata": {},
   "source": [
    "### Making timedelta columns\n"
   ]
  },
  {
   "cell_type": "code",
   "execution_count": 46,
   "id": "7174dbe8",
   "metadata": {},
   "outputs": [
    {
     "data": {
      "text/plain": [
       "0     181.0\n",
       "1    7622.0\n",
       "2     343.0\n",
       "3    1278.0\n",
       "4    1277.0\n",
       "Name: Duration, dtype: float64"
      ]
     },
     "execution_count": 46,
     "metadata": {},
     "output_type": "execute_result"
    }
   ],
   "source": [
    "# Subtract the start date from the end date\n",
    "ride_durations = rides['End date'] - rides['Start date']\n",
    "\n",
    "# Convert the results to seconds\n",
    "rides['Duration'] = ride_durations.dt.total_seconds()\n",
    "\n",
    "rides['Duration'].head()"
   ]
  },
  {
   "cell_type": "markdown",
   "id": "4a521a19",
   "metadata": {},
   "source": [
    "## Summarizing datetime data in Pandas\n",
    "### How many joyrides?\n"
   ]
  },
  {
   "cell_type": "code",
   "execution_count": 47,
   "id": "0e2a6b28",
   "metadata": {},
   "outputs": [
    {
     "name": "stdout",
     "output_type": "stream",
     "text": [
      "6 rides were joyrides\n",
      "The median duration overall was 660.00 seconds\n",
      "The median duration for joyrides was 2642.50 seconds\n"
     ]
    }
   ],
   "source": [
    "# Create joyrides\n",
    "joyrides = (rides[\"Start station\"] == rides[\"End station\"])\n",
    "\n",
    "# Total number of joyrides\n",
    "print(\"{} rides were joyrides\".format(joyrides.sum()))\n",
    "\n",
    "# Median of all rides\n",
    "print(\"The median duration overall was {:.2f} seconds\"\\\n",
    "      .format(rides['Duration'].median()))\n",
    "\n",
    "# Median of joyrides\n",
    "print(\"The median duration for joyrides was {:.2f} seconds\"\\\n",
    "      .format(rides[joyrides]['Duration'].median()))"
   ]
  },
  {
   "cell_type": "markdown",
   "id": "8a438880",
   "metadata": {},
   "source": [
    "### It's getting cold outside, W20529\n"
   ]
  },
  {
   "cell_type": "code",
   "execution_count": 48,
   "id": "305893bc",
   "metadata": {},
   "outputs": [
    {
     "data": {
      "image/png": "[encoded data removed]",
      "text/plain": [
       "<Figure size 432x288 with 1 Axes>"
      ]
     },
     "metadata": {
      "needs_background": "light"
     },
     "output_type": "display_data"
    }
   ],
   "source": [
    "# Import matplotlib\n",
    "import matplotlib.pyplot as plt\n",
    "\n",
    "# Resample rides to daily, take the size, plot the results\n",
    "rides.resample(\"D\", on = 'Start date')\\\n",
    "  .size()\\\n",
    "  .plot(ylim = [0, 15])\n",
    "\n",
    "# Show the results\n",
    "plt.show()"
   ]
  },
  {
   "cell_type": "code",
   "execution_count": 49,
   "id": "0b0543f9",
   "metadata": {},
   "outputs": [
    {
     "data": {
      "image/png": "[encoded data removed]",
      "text/plain": [
       "<Figure size 432x288 with 1 Axes>"
      ]
     },
     "metadata": {
      "needs_background": "light"
     },
     "output_type": "display_data"
    }
   ],
   "source": [
    "# Import matplotlib\n",
    "import matplotlib.pyplot as plt\n",
    "\n",
    "# Resample rides to monthly, take the size, plot the results\n",
    "rides.resample(\"M\", on = 'Start date')\\\n",
    "  .size()\\\n",
    "  .plot(ylim = [0, 150])\n",
    "\n",
    "# Show the results\n",
    "plt.show()"
   ]
  },
  {
   "cell_type": "markdown",
   "id": "0cdac169",
   "metadata": {},
   "source": [
    "### Members vs casual riders over time\n"
   ]
  },
  {
   "cell_type": "code",
   "execution_count": 50,
   "id": "81458e9b",
   "metadata": {
    "scrolled": true
   },
   "outputs": [
    {
     "name": "stdout",
     "output_type": "stream",
     "text": [
      "Start date  Member type\n",
      "2017-10-31  Member         0.768519\n",
      "            Casual         0.231481\n",
      "2017-11-30  Member         0.825243\n",
      "            Casual         0.174757\n",
      "2017-12-31  Member         0.860759\n",
      "            Casual         0.139241\n",
      "Name: Member type, dtype: float64\n"
     ]
    }
   ],
   "source": [
    "# Resample rides to be monthly on the basis of Start date\n",
    "monthly_rides = rides.resample(\"M\", on=\"Start date\")['Member type']\n",
    "\n",
    "# Take the ratio of the .value_counts() over the total number of rides\n",
    "print(monthly_rides.value_counts() / monthly_rides.size())"
   ]
  },
  {
   "cell_type": "markdown",
   "id": "1c61c9ea",
   "metadata": {},
   "source": [
    "### Combining groupby() and resample()\n"
   ]
  },
  {
   "cell_type": "code",
   "execution_count": 51,
   "id": "6446812d",
   "metadata": {
    "scrolled": true
   },
   "outputs": [
    {
     "name": "stdout",
     "output_type": "stream",
     "text": [
      "Member type  Start date\n",
      "Casual       2017-10-31    1636.0\n",
      "             2017-11-30    1159.5\n",
      "             2017-12-31     850.0\n",
      "Member       2017-10-31     671.0\n",
      "             2017-11-30     655.0\n",
      "             2017-12-31     387.5\n",
      "Name: Duration, dtype: float64\n"
     ]
    }
   ],
   "source": [
    "# Group rides by member type, and resample to the month\n",
    "grouped = rides.groupby('Member type')\\\n",
    "  .resample(\"M\", on=\"Start date\")\n",
    "\n",
    "# Print the median duration for each group\n",
    "print(grouped[\"Duration\"].median())"
   ]
  },
  {
   "cell_type": "markdown",
   "id": "f963f43c",
   "metadata": {},
   "source": [
    "## Additional datetime methods in Pandas\n",
    "### Timezones in Pandas\n"
   ]
  },
  {
   "cell_type": "code",
   "execution_count": 52,
   "id": "8089e07a",
   "metadata": {},
   "outputs": [
    {
     "name": "stdout",
     "output_type": "stream",
     "text": [
      "2017-10-01 15:23:25-04:00\n"
     ]
    }
   ],
   "source": [
    "# Localize the Start date column to America/New_York\n",
    "rides['Start date'] = rides['Start date'].dt.tz_localize('America/New_York', ambiguous = \"NaT\")\n",
    "\n",
    "# Print first value\n",
    "print(rides['Start date'].iloc[0])"
   ]
  },
  {
   "cell_type": "code",
   "execution_count": 53,
   "id": "403ba58f",
   "metadata": {},
   "outputs": [
    {
     "name": "stdout",
     "output_type": "stream",
     "text": [
      "2017-10-01 20:23:25+01:00\n"
     ]
    }
   ],
   "source": [
    "# Convert the Start date column to Europe/London\n",
    "rides['Start date'] = rides['Start date'].dt.tz_convert('Europe/London')\n",
    "\n",
    "# Print the new value\n",
    "print(rides['Start date'].iloc[0])"
   ]
  },
  {
   "cell_type": "markdown",
   "id": "abbe9b98",
   "metadata": {},
   "source": [
    "### How long per weekday?\n"
   ]
  },
  {
   "cell_type": "code",
   "execution_count": 54,
   "id": "b0e99d0e",
   "metadata": {},
   "outputs": [
    {
     "data": {
      "text/plain": [
       "Ride start weekday\n",
       "Friday       684.0\n",
       "Monday       922.5\n",
       "Saturday     610.0\n",
       "Sunday       625.0\n",
       "Thursday     659.0\n",
       "Tuesday      644.0\n",
       "Wednesday    629.0\n",
       "Name: Duration, dtype: float64"
      ]
     },
     "execution_count": 54,
     "metadata": {},
     "output_type": "execute_result"
    }
   ],
   "source": [
    "# Add a column for the weekday of the start of the ride\n",
    "rides['Ride start weekday'] = rides['Start date'].dt.day_name()\n",
    "\n",
    "# Print the median trip time per weekday\n",
    "rides.groupby(\"Ride start weekday\")['Duration'].median()"
   ]
  },
  {
   "cell_type": "markdown",
   "id": "7d6fa3a8",
   "metadata": {},
   "source": [
    "### How long between rides?\n"
   ]
  },
  {
   "cell_type": "code",
   "execution_count": 61,
   "id": "7c0baa15",
   "metadata": {},
   "outputs": [],
   "source": [
    "rides = pd.read_csv('capital-onebike.csv', \n",
    "                    parse_dates = [\"Start date\", \"End date\"])"
   ]
  },
  {
   "cell_type": "code",
   "execution_count": 62,
   "id": "843b6ba2",
   "metadata": {},
   "outputs": [
    {
     "data": {
      "text/plain": [
       "Start date\n",
       "2017-10-31   -0.524015\n",
       "2017-11-30   -0.237271\n",
       "2017-12-31   -0.176417\n",
       "Freq: M, Name: Time since, dtype: float64"
      ]
     },
     "execution_count": 62,
     "metadata": {},
     "output_type": "execute_result"
    }
   ],
   "source": [
    "# Shift the index of the end date up one; now subract it from the start date\n",
    "rides['Time since'] = rides['Start date'] - rides['End date']\n",
    "\n",
    "# Move from a timedelta to a number of seconds, which is easier to work with\n",
    "rides['Time since'] = rides['Time since'].dt.total_seconds()\n",
    "\n",
    "# Resample to the month\n",
    "monthly = rides.resample(\"M\", on = \"Start date\")\n",
    "\n",
    "# Print the average hours between rides each month\n",
    "monthly['Time since'].mean()/(60*60)"
   ]
  }
 ],
 "metadata": {
  "kernelspec": {
   "display_name": "Python 3 (ipykernel)",
   "language": "python",
   "name": "python3"
  },
  "language_info": {
   "codemirror_mode": {
    "name": "ipython",
    "version": 3
   },
   "file_extension": ".py",
   "mimetype": "text/x-python",
   "name": "python",
   "nbconvert_exporter": "python",
   "pygments_lexer": "ipython3",
   "version": "3.10.4"
  }
 },
 "nbformat": 4,
 "nbformat_minor": 5
}
